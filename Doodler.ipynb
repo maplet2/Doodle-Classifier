{
 "cells": [
  {
   "cell_type": "markdown",
   "metadata": {},
   "source": [
    "# Doodle-Classifier\n",
    "\n",
    "We have some data from Kaggle that is obtained from the game Quick, Draw! where players will draw a picture based on a given word. One thing to keep in mind is that the data is labelled solely based on the what the player has been given. This means that doodles may be incomplete or not anywhere close to what a typical image of what that said picture looks like. The goal of this project is to work towards the given Kaggle goal while having smaller personal goals that apply other data science/machine learning techniques.\n",
    "\n",
    "Original Goal from Kaggle: Find a way to parse through the data and build a better classifier that can effectively learn from the noisy data set. \n",
    "\n",
    "Personal Ideas/Goals: \n",
    "- Use the SVD to find dominant shapes? \n",
    "- Count how many strokes are in each picture\n",
    "- Find a criteria that throw out images "
   ]
  },
  {
   "cell_type": "markdown",
   "metadata": {},
   "source": [
    "# Load Data"
   ]
  },
  {
   "cell_type": "code",
   "execution_count": 1,
   "metadata": {},
   "outputs": [],
   "source": [
    "import os \n",
    "import ndjson\n",
    "import matplotlib.pyplot as plt\n",
    "import numpy as np\n",
    "import pandas as pd"
   ]
  },
  {
   "cell_type": "code",
   "execution_count": 2,
   "metadata": {},
   "outputs": [],
   "source": [
    "F = 'data'\n",
    "files = os.listdir(F)\n",
    "\n",
    "# load from file-like objects\n",
    "file_p = F + '\\\\' + files[4]\n",
    "with open(file_p) as f:\n",
    "    data = ndjson.load(f)"
   ]
  },
  {
   "cell_type": "code",
   "execution_count": 5,
   "metadata": {},
   "outputs": [
    {
     "data": {
      "text/plain": [
       "{'word': 'bus',\n",
       " 'countrycode': 'GB',\n",
       " 'timestamp': '2017-03-09 16:12:35.55741 UTC',\n",
       " 'recognized': True,\n",
       " 'key_id': '6312143085371392',\n",
       " 'drawing': [[[83, 77, 64, 56, 51, 51, 58, 74, 87, 91, 83, 76, 75],\n",
       "   [98, 95, 97, 102, 110, 118, 127, 129, 121, 110, 100, 98, 101]],\n",
       "  [[202, 186, 172, 164, 158, 160, 164, 184, 207, 214, 214, 199, 174],\n",
       "   [98, 97, 100, 106, 115, 127, 130, 136, 129, 122, 115, 103, 100]],\n",
       "  [[0, 123, 201, 236, 235, 227, 219, 192, 140, 102, 19, 11, 11],\n",
       "   [98, 98, 91, 96, 59, 15, 6, 1, 0, 4, 19, 63, 104]],\n",
       "  [[226, 212, 200, 209, 215, 219, 255], [9, 10, 15, 37, 66, 69, 64]],\n",
       "  [[38, 41, 45, 79, 81, 79, 69, 54, 38], [34, 55, 58, 54, 47, 32, 21, 19, 28]],\n",
       "  [[103, 107, 112, 127, 151, 146, 137, 107], [24, 49, 50, 44, 44, 31, 21, 21]],\n",
       "  [[165, 168, 173, 194], [23, 40, 48, 41]]]}"
      ]
     },
     "execution_count": 5,
     "metadata": {},
     "output_type": "execute_result"
    }
   ],
   "source": [
    "data[0]"
   ]
  },
  {
   "cell_type": "code",
   "execution_count": 6,
   "metadata": {},
   "outputs": [
    {
     "data": {
      "text/plain": [
       "list"
      ]
     },
     "execution_count": 6,
     "metadata": {},
     "output_type": "execute_result"
    }
   ],
   "source": [
    "type(data)"
   ]
  },
  {
   "cell_type": "code",
   "execution_count": 3,
   "metadata": {},
   "outputs": [
    {
     "data": {
      "text/html": [
       "<div>\n",
       "<style scoped>\n",
       "    .dataframe tbody tr th:only-of-type {\n",
       "        vertical-align: middle;\n",
       "    }\n",
       "\n",
       "    .dataframe tbody tr th {\n",
       "        vertical-align: top;\n",
       "    }\n",
       "\n",
       "    .dataframe thead th {\n",
       "        text-align: right;\n",
       "    }\n",
       "</style>\n",
       "<table border=\"1\" class=\"dataframe\">\n",
       "  <thead>\n",
       "    <tr style=\"text-align: right;\">\n",
       "      <th></th>\n",
       "      <th>countrycode</th>\n",
       "      <th>drawing</th>\n",
       "      <th>key_id</th>\n",
       "      <th>recognized</th>\n",
       "      <th>timestamp</th>\n",
       "      <th>word</th>\n",
       "    </tr>\n",
       "  </thead>\n",
       "  <tbody>\n",
       "    <tr>\n",
       "      <th>0</th>\n",
       "      <td>GB</td>\n",
       "      <td>[[[83, 77, 64, 56, 51, 51, 58, 74, 87, 91, 83,...</td>\n",
       "      <td>6312143085371392</td>\n",
       "      <td>True</td>\n",
       "      <td>2017-03-09 16:12:35.55741 UTC</td>\n",
       "      <td>bus</td>\n",
       "    </tr>\n",
       "    <tr>\n",
       "      <th>1</th>\n",
       "      <td>US</td>\n",
       "      <td>[[[3, 1, 39, 46, 47, 178, 254, 244, 145, 12], ...</td>\n",
       "      <td>6409748716978176</td>\n",
       "      <td>True</td>\n",
       "      <td>2017-03-23 22:40:24.04445 UTC</td>\n",
       "      <td>bus</td>\n",
       "    </tr>\n",
       "    <tr>\n",
       "      <th>2</th>\n",
       "      <td>IT</td>\n",
       "      <td>[[[7, 6, 8], [14, 56, 63]], [[9, 14, 81, 154, ...</td>\n",
       "      <td>5500039466057728</td>\n",
       "      <td>True</td>\n",
       "      <td>2017-01-28 10:36:39.17377 UTC</td>\n",
       "      <td>bus</td>\n",
       "    </tr>\n",
       "    <tr>\n",
       "      <th>3</th>\n",
       "      <td>US</td>\n",
       "      <td>[[[62, 67, 66, 48, 6, 3, 0, 3, 6, 72, 205, 247...</td>\n",
       "      <td>5401115073970176</td>\n",
       "      <td>True</td>\n",
       "      <td>2017-03-19 01:55:44.68666 UTC</td>\n",
       "      <td>bus</td>\n",
       "    </tr>\n",
       "    <tr>\n",
       "      <th>4</th>\n",
       "      <td>GB</td>\n",
       "      <td>[[[209, 113, 25, 6, 3, 0, 0, 6, 138, 248, 248,...</td>\n",
       "      <td>6025066867326976</td>\n",
       "      <td>True</td>\n",
       "      <td>2017-03-04 11:04:28.86581 UTC</td>\n",
       "      <td>bus</td>\n",
       "    </tr>\n",
       "  </tbody>\n",
       "</table>\n",
       "</div>"
      ],
      "text/plain": [
       "  countrycode                                            drawing  \\\n",
       "0          GB  [[[83, 77, 64, 56, 51, 51, 58, 74, 87, 91, 83,...   \n",
       "1          US  [[[3, 1, 39, 46, 47, 178, 254, 244, 145, 12], ...   \n",
       "2          IT  [[[7, 6, 8], [14, 56, 63]], [[9, 14, 81, 154, ...   \n",
       "3          US  [[[62, 67, 66, 48, 6, 3, 0, 3, 6, 72, 205, 247...   \n",
       "4          GB  [[[209, 113, 25, 6, 3, 0, 0, 6, 138, 248, 248,...   \n",
       "\n",
       "             key_id  recognized                      timestamp word  \n",
       "0  6312143085371392        True  2017-03-09 16:12:35.55741 UTC  bus  \n",
       "1  6409748716978176        True  2017-03-23 22:40:24.04445 UTC  bus  \n",
       "2  5500039466057728        True  2017-01-28 10:36:39.17377 UTC  bus  \n",
       "3  5401115073970176        True  2017-03-19 01:55:44.68666 UTC  bus  \n",
       "4  6025066867326976        True  2017-03-04 11:04:28.86581 UTC  bus  "
      ]
     },
     "execution_count": 3,
     "metadata": {},
     "output_type": "execute_result"
    }
   ],
   "source": [
    "df = pd.DataFrame(data)\n",
    "df.head(5)"
   ]
  },
  {
   "cell_type": "markdown",
   "metadata": {},
   "source": [
    "# Data Exploration"
   ]
  },
  {
   "cell_type": "markdown",
   "metadata": {},
   "source": [
    "We will see that our data contains the following interesting features: word (the word being drawn), 'key_id' (unique id for doodle), and 'drawing' which is an array of vectors that contain the (x,y) coordinate pair of strokes of the doodle. Starting with some data exploration, we can look at a few things. Let's start witht he number of strokes per each picture."
   ]
  },
  {
   "cell_type": "code",
   "execution_count": 21,
   "metadata": {},
   "outputs": [],
   "source": [
    "# Calculate the number of strokes per a drawing\n",
    "strokes = df['drawing']\n",
    "stroke_num = []\n",
    "for s in strokes:\n",
    "    stroke_num.append(len(s))"
   ]
  },
  {
   "cell_type": "code",
   "execution_count": 24,
   "metadata": {},
   "outputs": [
    {
     "data": {
      "text/html": [
       "<div>\n",
       "<style scoped>\n",
       "    .dataframe tbody tr th:only-of-type {\n",
       "        vertical-align: middle;\n",
       "    }\n",
       "\n",
       "    .dataframe tbody tr th {\n",
       "        vertical-align: top;\n",
       "    }\n",
       "\n",
       "    .dataframe thead th {\n",
       "        text-align: right;\n",
       "    }\n",
       "</style>\n",
       "<table border=\"1\" class=\"dataframe\">\n",
       "  <thead>\n",
       "    <tr style=\"text-align: right;\">\n",
       "      <th></th>\n",
       "      <th>countrycode</th>\n",
       "      <th>drawing</th>\n",
       "      <th>key_id</th>\n",
       "      <th>recognized</th>\n",
       "      <th>timestamp</th>\n",
       "      <th>word</th>\n",
       "      <th>strokes_num</th>\n",
       "    </tr>\n",
       "  </thead>\n",
       "  <tbody>\n",
       "    <tr>\n",
       "      <th>0</th>\n",
       "      <td>GB</td>\n",
       "      <td>[[[83, 77, 64, 56, 51, 51, 58, 74, 87, 91, 83,...</td>\n",
       "      <td>6312143085371392</td>\n",
       "      <td>True</td>\n",
       "      <td>2017-03-09 16:12:35.55741 UTC</td>\n",
       "      <td>bus</td>\n",
       "      <td>7</td>\n",
       "    </tr>\n",
       "    <tr>\n",
       "      <th>1</th>\n",
       "      <td>US</td>\n",
       "      <td>[[[3, 1, 39, 46, 47, 178, 254, 244, 145, 12], ...</td>\n",
       "      <td>6409748716978176</td>\n",
       "      <td>True</td>\n",
       "      <td>2017-03-23 22:40:24.04445 UTC</td>\n",
       "      <td>bus</td>\n",
       "      <td>4</td>\n",
       "    </tr>\n",
       "    <tr>\n",
       "      <th>2</th>\n",
       "      <td>IT</td>\n",
       "      <td>[[[7, 6, 8], [14, 56, 63]], [[9, 14, 81, 154, ...</td>\n",
       "      <td>5500039466057728</td>\n",
       "      <td>True</td>\n",
       "      <td>2017-01-28 10:36:39.17377 UTC</td>\n",
       "      <td>bus</td>\n",
       "      <td>13</td>\n",
       "    </tr>\n",
       "    <tr>\n",
       "      <th>3</th>\n",
       "      <td>US</td>\n",
       "      <td>[[[62, 67, 66, 48, 6, 3, 0, 3, 6, 72, 205, 247...</td>\n",
       "      <td>5401115073970176</td>\n",
       "      <td>True</td>\n",
       "      <td>2017-03-19 01:55:44.68666 UTC</td>\n",
       "      <td>bus</td>\n",
       "      <td>9</td>\n",
       "    </tr>\n",
       "    <tr>\n",
       "      <th>4</th>\n",
       "      <td>GB</td>\n",
       "      <td>[[[209, 113, 25, 6, 3, 0, 0, 6, 138, 248, 248,...</td>\n",
       "      <td>6025066867326976</td>\n",
       "      <td>True</td>\n",
       "      <td>2017-03-04 11:04:28.86581 UTC</td>\n",
       "      <td>bus</td>\n",
       "      <td>10</td>\n",
       "    </tr>\n",
       "  </tbody>\n",
       "</table>\n",
       "</div>"
      ],
      "text/plain": [
       "  countrycode                                            drawing  \\\n",
       "0          GB  [[[83, 77, 64, 56, 51, 51, 58, 74, 87, 91, 83,...   \n",
       "1          US  [[[3, 1, 39, 46, 47, 178, 254, 244, 145, 12], ...   \n",
       "2          IT  [[[7, 6, 8], [14, 56, 63]], [[9, 14, 81, 154, ...   \n",
       "3          US  [[[62, 67, 66, 48, 6, 3, 0, 3, 6, 72, 205, 247...   \n",
       "4          GB  [[[209, 113, 25, 6, 3, 0, 0, 6, 138, 248, 248,...   \n",
       "\n",
       "             key_id  recognized                      timestamp word  \\\n",
       "0  6312143085371392        True  2017-03-09 16:12:35.55741 UTC  bus   \n",
       "1  6409748716978176        True  2017-03-23 22:40:24.04445 UTC  bus   \n",
       "2  5500039466057728        True  2017-01-28 10:36:39.17377 UTC  bus   \n",
       "3  5401115073970176        True  2017-03-19 01:55:44.68666 UTC  bus   \n",
       "4  6025066867326976        True  2017-03-04 11:04:28.86581 UTC  bus   \n",
       "\n",
       "   strokes_num  \n",
       "0            7  \n",
       "1            4  \n",
       "2           13  \n",
       "3            9  \n",
       "4           10  "
      ]
     },
     "execution_count": 24,
     "metadata": {},
     "output_type": "execute_result"
    }
   ],
   "source": [
    "df['strokes_num'] = stroke_num\n",
    "df.head()"
   ]
  },
  {
   "cell_type": "code",
   "execution_count": 45,
   "metadata": {},
   "outputs": [
    {
     "name": "stdout",
     "output_type": "stream",
     "text": [
      "166208\n"
     ]
    }
   ],
   "source": [
    "word = df['word']\n",
    "print(len(word))"
   ]
  },
  {
   "cell_type": "code",
   "execution_count": 42,
   "metadata": {},
   "outputs": [
    {
     "name": "stdout",
     "output_type": "stream",
     "text": [
      "166208\n"
     ]
    }
   ],
   "source": [
    "# Confirm that we're only looking at the doodles of a 'bus'\n",
    "print(word.eq('bus').sum())"
   ]
  },
  {
   "cell_type": "code",
   "execution_count": 37,
   "metadata": {},
   "outputs": [
    {
     "data": {
      "image/png": "[encoded data removed]",
      "text/plain": [
       "<Figure size 720x360 with 2 Axes>"
      ]
     },
     "metadata": {
      "needs_background": "light"
     },
     "output_type": "display_data"
    }
   ],
   "source": [
    "# Plot number of strokes on a histogram and box plot\n",
    "fig, ax = plt.subplots(1,2, figsize=(10,5))\n",
    "ax[0].hist(stroke_num)\n",
    "ax[0].set_xlabel('Stroke Number')\n",
    "ax[0].set_ylabel('Instances')\n",
    "ax[1].boxplot(stroke_num)\n",
    "ax[1].set_ylabel('Stroke Number')\n",
    "plt.show()"
   ]
  },
  {
   "cell_type": "markdown",
   "metadata": {},
   "source": [
    "Amazingly, there seem to be some people who used more than 100 strokes to draw the bus. Instinctively, one would think that this could serve as a criteria for removing images. Since this is a long tailed distribution, let's remove the outliers from the top x percent and look at the data again. "
   ]
  },
  {
   "cell_type": "code",
   "execution_count": 54,
   "metadata": {},
   "outputs": [
    {
     "name": "stdout",
     "output_type": "stream",
     "text": [
      "(1, 338)\n"
     ]
    }
   ],
   "source": [
    "# Use Z-score to find the outliers \n",
    "from scipy import stats\n",
    "\n",
    "z_score = np.abs(stats.zscore(stroke_num))\n",
    "\n",
    "# Print how many elements will be removed\n",
    "threshold = 5\n",
    "tz = np.where(z_score > threshold)\n",
    "print(np.shape(tz))"
   ]
  },
  {
   "cell_type": "code",
   "execution_count": 57,
   "metadata": {},
   "outputs": [
    {
     "name": "stdout",
     "output_type": "stream",
     "text": [
      "Old Shape: (166208, 7)\n",
      "New Shape: (165870, 7)\n"
     ]
    }
   ],
   "source": [
    "# Remove outliers from DataFrame\n",
    "print('Old Shape: {}'.format(np.shape(df)))\n",
    "df_0 = df[(z_score < threshold)]\n",
    "print('New Shape: {}'.format(np.shape(df_0)))"
   ]
  },
  {
   "cell_type": "code",
   "execution_count": 58,
   "metadata": {},
   "outputs": [
    {
     "data": {
      "image/png": "[encoded data removed]",
      "text/plain": [
       "<Figure size 720x360 with 2 Axes>"
      ]
     },
     "metadata": {
      "needs_background": "light"
     },
     "output_type": "display_data"
    }
   ],
   "source": [
    "# New Histogram\n",
    "stroke_num = df_0['strokes_num']\n",
    "fig, ax = plt.subplots(1,2, figsize=(10,5))\n",
    "ax[0].hist(stroke_num)\n",
    "ax[0].set_xlabel('Stroke Number')\n",
    "ax[0].set_ylabel('Instances')\n",
    "ax[1].boxplot(stroke_num)\n",
    "ax[1].set_ylabel('Stroke Number')\n",
    "plt.show()"
   ]
  },
  {
   "cell_type": "markdown",
   "metadata": {},
   "source": [
    "# SVD "
   ]
  },
  {
   "cell_type": "code",
   "execution_count": 5,
   "metadata": {},
   "outputs": [],
   "source": [
    "# Get'drawing' aspect or the strokes made from the dataframe\n",
    "strokes = df['drawing']"
   ]
  },
  {
   "cell_type": "code",
   "execution_count": 15,
   "metadata": {},
   "outputs": [
    {
     "data": {
      "text/plain": [
       "(105, 176, 4)"
      ]
     },
     "execution_count": 15,
     "metadata": {},
     "output_type": "execute_result"
    },
    {
     "data": {
      "image/png": "[encoded data removed]",
      "text/plain": [
       "<Figure size 194.4x112.32 with 1 Axes>"
      ]
     },
     "metadata": {
      "needs_background": "light"
     },
     "output_type": "display_data"
    }
   ],
   "source": [
    "# Plot one image from strokes and save the images \n",
    "stroke = strokes[0]\n",
    "fig = plt.figure(frameon=False)\n",
    "fig.set_size_inches(2.7,1.56)\n",
    "fig.tight_layout(pad = 0)\n",
    "ax = fig.add_subplot(111)\n",
    "ax.set_xlim(0,260)\n",
    "ax.set_ylim(0,150)\n",
    "ax.axis('off')\n",
    "for s in stroke:\n",
    "    ax.plot(s[0], s[1], 'k')\n",
    "fig.canvas.draw()\n",
    "plt.savefig('test.png', dpi=fig.dpi, bbox_inches='tight', pad_inches=0)\n",
    "pic = plt.imread('test.png')\n",
    "\n",
    "pic.shape"
   ]
  },
  {
   "cell_type": "code",
   "execution_count": 16,
   "metadata": {},
   "outputs": [],
   "source": [
    "# Function recieves colored image as a 3D matrix as input and converts it into a 2D grayscale image.\n",
    "def rgb2gray(rgb):\n",
    "\n",
    "    r, g, b = rgb[:,:,0], rgb[:,:,1], rgb[:,:,2]\n",
    "    gray = 0.2989 * r + 0.5870 * g + 0.1140 * b\n",
    "\n",
    "    return gray"
   ]
  },
  {
   "cell_type": "code",
   "execution_count": 22,
   "metadata": {},
   "outputs": [
    {
     "data": {
      "image/png": "[encoded data removed]",
      "text/plain": [
       "<Figure size 194.4x112.32 with 1 Axes>"
      ]
     },
     "metadata": {
      "needs_background": "light"
     },
     "output_type": "display_data"
    },
    {
     "data": {
      "image/png": "[encoded data removed]",
      "text/plain": [
       "<Figure size 194.4x112.32 with 1 Axes>"
      ]
     },
     "metadata": {
      "needs_background": "light"
     },
     "output_type": "display_data"
    },
    {
     "data": {
      "image/png": "[encoded data removed]",
      "text/plain": [
       "<Figure size 194.4x112.32 with 1 Axes>"
      ]
     },
     "metadata": {
      "needs_background": "light"
     },
     "output_type": "display_data"
    },
    {
     "data": {
      "image/png": "[encoded data removed]",
      "text/plain": [
       "<Figure size 194.4x112.32 with 1 Axes>"
      ]
     },
     "metadata": {
      "needs_background": "light"
     },
     "output_type": "display_data"
    },
    {
     "data": {
      "image/png": "[encoded data removed]",
      "text/plain": [
       "<Figure size 194.4x112.32 with 1 Axes>"
      ]
     },
     "metadata": {
      "needs_background": "light"
     },
     "output_type": "display_data"
    },
    {
     "data": {
      "image/png": "[encoded data removed]",
      "text/plain": [
       "<Figure size 194.4x112.32 with 1 Axes>"
      ]
     },
     "metadata": {
      "needs_background": "light"
     },
     "output_type": "display_data"
    },
    {
     "data": {
      "image/png": "[encoded data removed]",
      "text/plain": [
       "<Figure size 194.4x112.32 with 1 Axes>"
      ]
     },
     "metadata": {
      "needs_background": "light"
     },
     "output_type": "display_data"
    },
    {
     "data": {
      "image/png": "[encoded data removed]",
      "text/plain": [
       "<Figure size 194.4x112.32 with 1 Axes>"
      ]
     },
     "metadata": {
      "needs_background": "light"
     },
     "output_type": "display_data"
    },
    {
     "data": {
      "image/png": "[encoded data removed]",
      "text/plain": [
       "<Figure size 194.4x112.32 with 1 Axes>"
      ]
     },
     "metadata": {
      "needs_background": "light"
     },
     "output_type": "display_data"
    },
    {
     "data": {
      "image/png": "[encoded data removed]",
      "text/plain": [
       "<Figure size 194.4x112.32 with 1 Axes>"
      ]
     },
     "metadata": {
      "needs_background": "light"
     },
     "output_type": "display_data"
    },
    {
     "data": {
      "image/png": "[encoded data removed]",
      "text/plain": [
       "<Figure size 194.4x112.32 with 1 Axes>"
      ]
     },
     "metadata": {
      "needs_background": "light"
     },
     "output_type": "display_data"
    },
    {
     "data": {
      "image/png": "[encoded data removed]",
      "text/plain": [
       "<Figure size 194.4x112.32 with 1 Axes>"
      ]
     },
     "metadata": {
      "needs_background": "light"
     },
     "output_type": "display_data"
    },
    {
     "data": {
      "image/png": "[encoded data removed]",
      "text/plain": [
       "<Figure size 194.4x112.32 with 1 Axes>"
      ]
     },
     "metadata": {
      "needs_background": "light"
     },
     "output_type": "display_data"
    },
    {
     "data": {
      "image/png": "[encoded data removed]",
      "text/plain": [
       "<Figure size 194.4x112.32 with 1 Axes>"
      ]
     },
     "metadata": {
      "needs_background": "light"
     },
     "output_type": "display_data"
    },
    {
     "data": {
      "image/png": "[encoded data removed]",
      "text/plain": [
       "<Figure size 194.4x112.32 with 1 Axes>"
      ]
     },
     "metadata": {
      "needs_background": "light"
     },
     "output_type": "display_data"
    },
    {
     "data": {
      "image/png": "[encoded data removed]",
      "text/plain": [
       "<Figure size 194.4x112.32 with 1 Axes>"
      ]
     },
     "metadata": {
      "needs_background": "light"
     },
     "output_type": "display_data"
    },
    {
     "data": {
      "image/png": "[encoded data removed]",
      "text/plain": [
       "<Figure size 194.4x112.32 with 1 Axes>"
      ]
     },
     "metadata": {
      "needs_background": "light"
     },
     "output_type": "display_data"
    },
    {
     "data": {
      "image/png": "[encoded data removed]",
      "text/plain": [
       "<Figure size 194.4x112.32 with 1 Axes>"
      ]
     },
     "metadata": {
      "needs_background": "light"
     },
     "output_type": "display_data"
    },
    {
     "data": {
      "image/png": "[encoded data removed]",
      "text/plain": [
       "<Figure size 194.4x112.32 with 1 Axes>"
      ]
     },
     "metadata": {
      "needs_background": "light"
     },
     "output_type": "display_data"
    },
    {
     "data": {
      "image/png": "[encoded data removed]",
      "text/plain": [
       "<Figure size 194.4x112.32 with 1 Axes>"
      ]
     },
     "metadata": {
      "needs_background": "light"
     },
     "output_type": "display_data"
    }
   ],
   "source": [
    "# Save each image and then reshapes them into a large matrix so that we can apply the SVD\n",
    "draw_num = 20\n",
    "width = pic.shape[1]\n",
    "height = pic.shape[0]\n",
    "drawing_mat = np.zeros([width*height, draw_num])\n",
    "k = 0\n",
    "for stroke in strokes[0:draw_num]:\n",
    "    # %% Plot image from strokes and save the images \n",
    "    fig = plt.figure(frameon=False)\n",
    "    fig.set_size_inches(2.7,1.56)\n",
    "    fig.tight_layout(pad = 0)\n",
    "    ax = fig.add_subplot(111)\n",
    "    ax.set_xlim(0,260)\n",
    "    ax.set_ylim(0,150)\n",
    "    ax.axis('off')\n",
    "    for s in stroke:\n",
    "        ax.plot(s[0], s[1], 'k')\n",
    "    fig.canvas.draw()\n",
    "    plt.savefig('test.png', dpi=fig.dpi, bbox_inches='tight', pad_inches=0)\n",
    "    pic = plt.imread('test.png')\n",
    "    drawing_mat[:, k] = np.reshape(rgb2gray(pic), (width*height))\n",
    "    k = k+1"
   ]
  },
  {
   "cell_type": "code",
   "execution_count": 23,
   "metadata": {},
   "outputs": [
    {
     "data": {
      "text/plain": [
       "(18480, 20)"
      ]
     },
     "execution_count": 23,
     "metadata": {},
     "output_type": "execute_result"
    }
   ],
   "source": [
    "drawing_mat.shape"
   ]
  },
  {
   "cell_type": "code",
   "execution_count": 24,
   "metadata": {},
   "outputs": [],
   "source": [
    "import numpy.linalg as la\n",
    "\n",
    "u, s, vh = la.svd(drawing_mat)"
   ]
  },
  {
   "cell_type": "code",
   "execution_count": 35,
   "metadata": {},
   "outputs": [
    {
     "data": {
      "image/png": "[encoded data removed]",
      "text/plain": [
       "<Figure size 432x288 with 1 Axes>"
      ]
     },
     "metadata": {
      "needs_background": "light"
     },
     "output_type": "display_data"
    }
   ],
   "source": [
    "plt.plot(s/sum(s), 'ko')\n",
    "plt.xticks(np.arange(draw_num))\n",
    "plt.show()"
   ]
  },
  {
   "cell_type": "code",
   "execution_count": 34,
   "metadata": {},
   "outputs": [
    {
     "data": {
      "text/plain": [
       "array([575.70763141,  32.42086293,  31.46146497,  31.21266554,\n",
       "        29.55844566,  29.13172061,  28.92642583,  27.69478953,\n",
       "        26.74952669,  26.41758266,  26.12415814,  25.51992994,\n",
       "        25.42040138,  24.80785791,  24.02883787,  23.63773588,\n",
       "        22.95379787,  22.23538322,  20.72154801,  19.41777854])"
      ]
     },
     "execution_count": 34,
     "metadata": {},
     "output_type": "execute_result"
    }
   ],
   "source": []
  },
  {
   "cell_type": "code",
   "execution_count": null,
   "metadata": {},
   "outputs": [],
   "source": []
  },
  {
   "cell_type": "code",
   "execution_count": null,
   "metadata": {},
   "outputs": [],
   "source": []
  }
 ],
 "metadata": {
  "kernelspec": {
   "display_name": "Python 3",
   "language": "python",
   "name": "python3"
  },
  "language_info": {
   "codemirror_mode": {
    "name": "ipython",
    "version": 3
   },
   "file_extension": ".py",
   "mimetype": "text/x-python",
   "name": "python",
   "nbconvert_exporter": "python",
   "pygments_lexer": "ipython3",
   "version": "3.7.3"
  }
 },
 "nbformat": 4,
 "nbformat_minor": 2
}
